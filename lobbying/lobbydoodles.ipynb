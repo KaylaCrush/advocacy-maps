{
 "cells": [
  {
   "cell_type": "code",
   "execution_count": 1,
   "metadata": {},
   "outputs": [],
   "source": [
    "from src.lobbyingDataPage import *\n",
    "from src.lobbyingScraper import *\n",
    "\n",
    "import pickle\n",
    "with open(\"tests/testfiles/2005html.pkl\", \"rb\") as f:\n",
    "    html05 = pickle.load(f)\n",
    "with open(\"tests/testfiles/2020html.pkl\", \"rb\") as f:\n",
    "    html20 = pickle.load(f)\n",
    "test_htmls = html05.__add__(html20)"
   ]
  },
  {
   "cell_type": "code",
   "execution_count": 2,
   "metadata": {},
   "outputs": [
    {
     "name": "stdout",
     "output_type": "stream",
     "text": [
      "converting html index 0 into data page\n",
      "converting html index 1 into data page\n",
      "converting html index 2 into data page\n",
      "converting html index 3 into data page\n",
      "converting html index 4 into data page\n",
      "converting html index 5 into data page\n",
      "converting html index 6 into data page\n",
      "converting html index 7 into data page\n",
      "converting html index 8 into data page\n",
      "converting html index 9 into data page\n",
      "converting html index 10 into data page\n",
      "converting html index 11 into data page\n",
      "converting html index 12 into data page\n",
      "converting html index 13 into data page\n",
      "converting html index 14 into data page\n",
      "converting html index 15 into data page\n",
      "converting html index 16 into data page\n",
      "converting html index 17 into data page\n",
      "converting html index 18 into data page\n",
      "converting html index 19 into data page\n",
      "converting html index 20 into data page\n",
      "converting html index 21 into data page\n",
      "converting html index 22 into data page\n",
      "converting html index 23 into data page\n",
      "converting html index 24 into data page\n",
      "converting html index 25 into data page\n",
      "converting html index 26 into data page\n",
      "converting html index 27 into data page\n",
      "converting html index 28 into data page\n",
      "converting html index 29 into data page\n",
      "converting html index 30 into data page\n",
      "converting html index 31 into data page\n",
      "converting html index 32 into data page\n"
     ]
    },
    {
     "ename": "KeyboardInterrupt",
     "evalue": "",
     "output_type": "error",
     "traceback": [
      "\u001b[1;31m---------------------------------------------------------------------------\u001b[0m",
      "\u001b[1;31mKeyboardInterrupt\u001b[0m                         Traceback (most recent call last)",
      "\u001b[1;32mc:\\Users\\geekc\\Code\\jigsaw\\Intern Stuff\\advocacy-maps\\lobbying\\lobbydoodles.ipynb Cell 2\u001b[0m in \u001b[0;36m<cell line: 2>\u001b[1;34m()\u001b[0m\n\u001b[0;32m      <a href='vscode-notebook-cell:/c%3A/Users/geekc/Code/jigsaw/Intern%20Stuff/advocacy-maps/lobbying/lobbydoodles.ipynb#W1sZmlsZQ%3D%3D?line=0'>1</a>\u001b[0m \u001b[39m#%%capture\u001b[39;00m\n\u001b[1;32m----> <a href='vscode-notebook-cell:/c%3A/Users/geekc/Code/jigsaw/Intern%20Stuff/advocacy-maps/lobbying/lobbydoodles.ipynb#W1sZmlsZQ%3D%3D?line=1'>2</a>\u001b[0m pages \u001b[39m=\u001b[39m convert_html_list(test_htmls)\n",
      "File \u001b[1;32mc:\\Users\\geekc\\Code\\jigsaw\\Intern Stuff\\advocacy-maps\\lobbying\\src\\lobbyingDataPage.py:312\u001b[0m, in \u001b[0;36mconvert_html_list\u001b[1;34m(html_list)\u001b[0m\n\u001b[0;32m    310\u001b[0m         page_list\u001b[39m.\u001b[39mappend(EntityDataPage(html))\n\u001b[0;32m    311\u001b[0m     \u001b[39melse\u001b[39;00m:\n\u001b[1;32m--> 312\u001b[0m         page_list\u001b[39m.\u001b[39mappend(LobbyistDataPage(html))\n\u001b[0;32m    313\u001b[0m \u001b[39mreturn\u001b[39;00m page_list\n",
      "File \u001b[1;32mc:\\Users\\geekc\\Code\\jigsaw\\Intern Stuff\\advocacy-maps\\lobbying\\src\\lobbyingDataPage.py:243\u001b[0m, in \u001b[0;36mLobbyistDataPage.__init__\u001b[1;34m(self, html)\u001b[0m\n\u001b[0;32m    242\u001b[0m \u001b[39mdef\u001b[39;00m \u001b[39m__init__\u001b[39m(\u001b[39mself\u001b[39m, html):\n\u001b[1;32m--> 243\u001b[0m     DataPage\u001b[39m.\u001b[39;49m\u001b[39m__init__\u001b[39;49m(\u001b[39mself\u001b[39;49m, html)\n",
      "File \u001b[1;32mc:\\Users\\geekc\\Code\\jigsaw\\Intern Stuff\\advocacy-maps\\lobbying\\src\\lobbyingDataPage.py:54\u001b[0m, in \u001b[0;36mDataPage.__init__\u001b[1;34m(self, html)\u001b[0m\n\u001b[0;32m     52\u001b[0m \u001b[39mself\u001b[39m\u001b[39m.\u001b[39mtables \u001b[39m=\u001b[39m {} \u001b[39m# A dictionary that will hold all the tables as they are extracted\u001b[39;00m\n\u001b[0;32m     53\u001b[0m \u001b[39mself\u001b[39m\u001b[39m.\u001b[39msoup \u001b[39m=\u001b[39m bs(html, \u001b[39m'\u001b[39m\u001b[39mhtml.parser\u001b[39m\u001b[39m'\u001b[39m)\n\u001b[1;32m---> 54\u001b[0m \u001b[39mself\u001b[39m\u001b[39m.\u001b[39mdfs \u001b[39m=\u001b[39m pd\u001b[39m.\u001b[39;49mread_html(html)\n\u001b[0;32m     56\u001b[0m \u001b[39mif\u001b[39;00m \u001b[39mself\u001b[39m\u001b[39m.\u001b[39mcheck_validity():\n\u001b[0;32m     57\u001b[0m     \u001b[39mself\u001b[39m\u001b[39m.\u001b[39mget_header()\n",
      "File \u001b[1;32mc:\\Users\\geekc\\AppData\\Local\\Programs\\Python\\Python310\\lib\\site-packages\\pandas\\util\\_decorators.py:311\u001b[0m, in \u001b[0;36mdeprecate_nonkeyword_arguments.<locals>.decorate.<locals>.wrapper\u001b[1;34m(*args, **kwargs)\u001b[0m\n\u001b[0;32m    305\u001b[0m \u001b[39mif\u001b[39;00m \u001b[39mlen\u001b[39m(args) \u001b[39m>\u001b[39m num_allow_args:\n\u001b[0;32m    306\u001b[0m     warnings\u001b[39m.\u001b[39mwarn(\n\u001b[0;32m    307\u001b[0m         msg\u001b[39m.\u001b[39mformat(arguments\u001b[39m=\u001b[39marguments),\n\u001b[0;32m    308\u001b[0m         \u001b[39mFutureWarning\u001b[39;00m,\n\u001b[0;32m    309\u001b[0m         stacklevel\u001b[39m=\u001b[39mstacklevel,\n\u001b[0;32m    310\u001b[0m     )\n\u001b[1;32m--> 311\u001b[0m \u001b[39mreturn\u001b[39;00m func(\u001b[39m*\u001b[39margs, \u001b[39m*\u001b[39m\u001b[39m*\u001b[39mkwargs)\n",
      "File \u001b[1;32mc:\\Users\\geekc\\AppData\\Local\\Programs\\Python\\Python310\\lib\\site-packages\\pandas\\io\\html.py:1113\u001b[0m, in \u001b[0;36mread_html\u001b[1;34m(io, match, flavor, header, index_col, skiprows, attrs, parse_dates, thousands, encoding, decimal, converters, na_values, keep_default_na, displayed_only)\u001b[0m\n\u001b[0;32m   1109\u001b[0m validate_header_arg(header)\n\u001b[0;32m   1111\u001b[0m io \u001b[39m=\u001b[39m stringify_path(io)\n\u001b[1;32m-> 1113\u001b[0m \u001b[39mreturn\u001b[39;00m _parse(\n\u001b[0;32m   1114\u001b[0m     flavor\u001b[39m=\u001b[39;49mflavor,\n\u001b[0;32m   1115\u001b[0m     io\u001b[39m=\u001b[39;49mio,\n\u001b[0;32m   1116\u001b[0m     match\u001b[39m=\u001b[39;49mmatch,\n\u001b[0;32m   1117\u001b[0m     header\u001b[39m=\u001b[39;49mheader,\n\u001b[0;32m   1118\u001b[0m     index_col\u001b[39m=\u001b[39;49mindex_col,\n\u001b[0;32m   1119\u001b[0m     skiprows\u001b[39m=\u001b[39;49mskiprows,\n\u001b[0;32m   1120\u001b[0m     parse_dates\u001b[39m=\u001b[39;49mparse_dates,\n\u001b[0;32m   1121\u001b[0m     thousands\u001b[39m=\u001b[39;49mthousands,\n\u001b[0;32m   1122\u001b[0m     attrs\u001b[39m=\u001b[39;49mattrs,\n\u001b[0;32m   1123\u001b[0m     encoding\u001b[39m=\u001b[39;49mencoding,\n\u001b[0;32m   1124\u001b[0m     decimal\u001b[39m=\u001b[39;49mdecimal,\n\u001b[0;32m   1125\u001b[0m     converters\u001b[39m=\u001b[39;49mconverters,\n\u001b[0;32m   1126\u001b[0m     na_values\u001b[39m=\u001b[39;49mna_values,\n\u001b[0;32m   1127\u001b[0m     keep_default_na\u001b[39m=\u001b[39;49mkeep_default_na,\n\u001b[0;32m   1128\u001b[0m     displayed_only\u001b[39m=\u001b[39;49mdisplayed_only,\n\u001b[0;32m   1129\u001b[0m )\n",
      "File \u001b[1;32mc:\\Users\\geekc\\AppData\\Local\\Programs\\Python\\Python310\\lib\\site-packages\\pandas\\io\\html.py:942\u001b[0m, in \u001b[0;36m_parse\u001b[1;34m(flavor, io, match, attrs, encoding, displayed_only, **kwargs)\u001b[0m\n\u001b[0;32m    939\u001b[0m     \u001b[39mraise\u001b[39;00m retained\n\u001b[0;32m    941\u001b[0m ret \u001b[39m=\u001b[39m []\n\u001b[1;32m--> 942\u001b[0m \u001b[39mfor\u001b[39;00m table \u001b[39min\u001b[39;00m tables:\n\u001b[0;32m    943\u001b[0m     \u001b[39mtry\u001b[39;00m:\n\u001b[0;32m    944\u001b[0m         ret\u001b[39m.\u001b[39mappend(_data_to_frame(data\u001b[39m=\u001b[39mtable, \u001b[39m*\u001b[39m\u001b[39m*\u001b[39mkwargs))\n",
      "File \u001b[1;32mc:\\Users\\geekc\\AppData\\Local\\Programs\\Python\\Python310\\lib\\site-packages\\pandas\\io\\html.py:240\u001b[0m, in \u001b[0;36m<genexpr>\u001b[1;34m(.0)\u001b[0m\n\u001b[0;32m    232\u001b[0m \u001b[39m\"\"\"\u001b[39;00m\n\u001b[0;32m    233\u001b[0m \u001b[39mParse and return all tables from the DOM.\u001b[39;00m\n\u001b[0;32m    234\u001b[0m \n\u001b[1;32m   (...)\u001b[0m\n\u001b[0;32m    237\u001b[0m \u001b[39mlist of parsed (header, body, footer) tuples from tables.\u001b[39;00m\n\u001b[0;32m    238\u001b[0m \u001b[39m\"\"\"\u001b[39;00m\n\u001b[0;32m    239\u001b[0m tables \u001b[39m=\u001b[39m \u001b[39mself\u001b[39m\u001b[39m.\u001b[39m_parse_tables(\u001b[39mself\u001b[39m\u001b[39m.\u001b[39m_build_doc(), \u001b[39mself\u001b[39m\u001b[39m.\u001b[39mmatch, \u001b[39mself\u001b[39m\u001b[39m.\u001b[39mattrs)\n\u001b[1;32m--> 240\u001b[0m \u001b[39mreturn\u001b[39;00m (\u001b[39mself\u001b[39;49m\u001b[39m.\u001b[39;49m_parse_thead_tbody_tfoot(table) \u001b[39mfor\u001b[39;00m table \u001b[39min\u001b[39;00m tables)\n",
      "File \u001b[1;32mc:\\Users\\geekc\\AppData\\Local\\Programs\\Python\\Python310\\lib\\site-packages\\pandas\\io\\html.py:424\u001b[0m, in \u001b[0;36m_HtmlFrameParser._parse_thead_tbody_tfoot\u001b[1;34m(self, table_html)\u001b[0m\n\u001b[0;32m    399\u001b[0m \u001b[39mdef\u001b[39;00m \u001b[39m_parse_thead_tbody_tfoot\u001b[39m(\u001b[39mself\u001b[39m, table_html):\n\u001b[0;32m    400\u001b[0m     \u001b[39m\"\"\"\u001b[39;00m\n\u001b[0;32m    401\u001b[0m \u001b[39m    Given a table, return parsed header, body, and foot.\u001b[39;00m\n\u001b[0;32m    402\u001b[0m \n\u001b[1;32m   (...)\u001b[0m\n\u001b[0;32m    422\u001b[0m \u001b[39m             all elements inside row are <th>\u001b[39;00m\n\u001b[0;32m    423\u001b[0m \u001b[39m    \"\"\"\u001b[39;00m\n\u001b[1;32m--> 424\u001b[0m     header_rows \u001b[39m=\u001b[39m \u001b[39mself\u001b[39;49m\u001b[39m.\u001b[39;49m_parse_thead_tr(table_html)\n\u001b[0;32m    425\u001b[0m     body_rows \u001b[39m=\u001b[39m \u001b[39mself\u001b[39m\u001b[39m.\u001b[39m_parse_tbody_tr(table_html)\n\u001b[0;32m    426\u001b[0m     footer_rows \u001b[39m=\u001b[39m \u001b[39mself\u001b[39m\u001b[39m.\u001b[39m_parse_tfoot_tr(table_html)\n",
      "File \u001b[1;32mc:\\Users\\geekc\\AppData\\Local\\Programs\\Python\\Python310\\lib\\site-packages\\pandas\\io\\html.py:767\u001b[0m, in \u001b[0;36m_LxmlFrameParser._parse_thead_tr\u001b[1;34m(self, table)\u001b[0m\n\u001b[0;32m    764\u001b[0m \u001b[39mdef\u001b[39;00m \u001b[39m_parse_thead_tr\u001b[39m(\u001b[39mself\u001b[39m, table):\n\u001b[0;32m    765\u001b[0m     rows \u001b[39m=\u001b[39m []\n\u001b[1;32m--> 767\u001b[0m     \u001b[39mfor\u001b[39;00m thead \u001b[39min\u001b[39;00m table\u001b[39m.\u001b[39;49mxpath(\u001b[39m\"\u001b[39;49m\u001b[39m.//thead\u001b[39;49m\u001b[39m\"\u001b[39;49m):\n\u001b[0;32m    768\u001b[0m         rows\u001b[39m.\u001b[39mextend(thead\u001b[39m.\u001b[39mxpath(\u001b[39m\"\u001b[39m\u001b[39m./tr\u001b[39m\u001b[39m\"\u001b[39m))\n\u001b[0;32m    770\u001b[0m         \u001b[39m# HACK: lxml does not clean up the clearly-erroneous\u001b[39;00m\n\u001b[0;32m    771\u001b[0m         \u001b[39m# <thead><th>foo</th><th>bar</th></thead>. (Missing <tr>). Add\u001b[39;00m\n\u001b[0;32m    772\u001b[0m         \u001b[39m# the <thead> and _pretend_ it's a <tr>; _parse_td() will find its\u001b[39;00m\n\u001b[0;32m    773\u001b[0m         \u001b[39m# children as though it's a <tr>.\u001b[39;00m\n\u001b[0;32m    774\u001b[0m         \u001b[39m#\u001b[39;00m\n\u001b[0;32m    775\u001b[0m         \u001b[39m# Better solution would be to use html5lib.\u001b[39;00m\n",
      "\u001b[1;31mKeyboardInterrupt\u001b[0m: "
     ]
    }
   ],
   "source": [
    "#%%capture\n",
    "pages = convert_html_list(test_htmls)"
   ]
  },
  {
   "cell_type": "code",
   "execution_count": 2,
   "metadata": {},
   "outputs": [
    {
     "name": "stdout",
     "output_type": "stream",
     "text": [
      "['12/1/05Timothy A Bassett', 'Tom McGee', 'Senator of Lynn', '$50.00']\n"
     ]
    },
    {
     "data": {
      "text/plain": [
       "<src.lobbyingDataPage.EntityDataPage at 0x2130a3e1630>"
      ]
     },
     "execution_count": 2,
     "metadata": {},
     "output_type": "execute_result"
    }
   ],
   "source": [
    "html = test_htmls[69]\n",
    "EntityDataPage(html)"
   ]
  },
  {
   "cell_type": "code",
   "execution_count": 11,
   "metadata": {},
   "outputs": [],
   "source": [
    "soup = bs(html, 'html.parser')"
   ]
  },
  {
   "cell_type": "code",
   "execution_count": 12,
   "metadata": {},
   "outputs": [],
   "source": [
    "table_name = 'Campaign Contributions'\n",
    "columns = ['Date','Lobbyist name','Recipient name','Office sought','Amount']\n",
    "table_start = \"\".join(columns)\n",
    "table_end = \"\\xa0\\xa0Total contributions\""
   ]
  },
  {
   "cell_type": "code",
   "execution_count": 16,
   "metadata": {},
   "outputs": [],
   "source": [
    "# pulls everything between each tabe_start and table_end\n",
    "# returns a list of results\n",
    "def query_page(table_start, table_end, string):\n",
    "    query_string = fr\"(?<={table_start}).*?(?={table_end})\"\n",
    "    query = re.compile(query_string,re.DOTALL)\n",
    "    query_results = re.findall(query, string)\n",
    "    return query_results\n",
    "def divide_chunks(some_list,chunk_size):\n",
    "    for i in range(0, len(some_list), chunk_size):\n",
    "        yield some_list[i:i+chunk_size]"
   ]
  },
  {
   "cell_type": "code",
   "execution_count": 24,
   "metadata": {},
   "outputs": [
    {
     "name": "stdout",
     "output_type": "stream",
     "text": [
      "['12/1/05Timothy A Bassett', 'Tom McGee', 'Senator of Lynn', '$50.00']\n"
     ]
    },
    {
     "data": {
      "text/plain": [
       "4"
      ]
     },
     "execution_count": 24,
     "metadata": {},
     "output_type": "execute_result"
    }
   ],
   "source": [
    "query_results = query_page(table_start, table_end, soup.text)\n",
    "query_result = query_results[0]\n",
    "split_text=[line.strip() for line in query_result.split('\\n') if line.strip()]\n",
    "divided_text = list(divide_chunks(split_text, len(columns)))\n",
    "if len(divided_text) < len(columns):\n",
    "    print(divided_text[0])\n",
    "len(divided_text[0])\n",
    "# def create_table(query_result, columns):\n",
    "#     split_text=[line.strip() for line in query_result.split('\\n') if line.strip()]\n",
    "#     divided_text = list(divide_chunks(split_text, len(columns)))\n",
    "#     table_df = pd.DataFrame(divided_text, columns=columns)\n",
    "#     return table_df"
   ]
  },
  {
   "cell_type": "code",
   "execution_count": 6,
   "metadata": {},
   "outputs": [
    {
     "data": {
      "text/plain": [
       "[<src.lobbyingDataPage.EntityDataPage at 0x2d6904f1db0>,\n",
       " <src.lobbyingDataPage.EntityDataPage at 0x2d6907045b0>,\n",
       " <src.lobbyingDataPage.EntityDataPage at 0x2d690955ed0>,\n",
       " <src.lobbyingDataPage.EntityDataPage at 0x2d691288220>,\n",
       " <src.lobbyingDataPage.EntityDataPage at 0x2d691866230>]"
      ]
     },
     "execution_count": 6,
     "metadata": {},
     "output_type": "execute_result"
    }
   ],
   "source": [
    "comp = [page for page in pages if 'Client Compensation' in page.soup.text]\n",
    "comp"
   ]
  },
  {
   "cell_type": "code",
   "execution_count": 13,
   "metadata": {},
   "outputs": [
    {
     "data": {
      "text/plain": [
       "\"\\n\\n\\n\\n\\n\\n\\n\\n\\r\\n\\tLobbyist Public Search\\r\\n\\n\\n\\n\\n\\n  \\n\\n\\n\\n\\nHome\\nDirections\\nContact Us\\n\\n\\n\\n\\n\\n\\n\\n\\n\\n\\n\\n\\n\\n\\n\\n\\n\\n\\n\\n\\n\\n\\nLobbyist Public Search\\n\\n\\n\\n\\n\\n\\n\\n\\n\\r\\n            Records prior to registration year 2005 are not available online. \\r\\n            \\n\\r\\n            \\r\\n            Contact the Lobbyist Division here for assistance.\\r\\n        \\nSearch data is collected from registration records and disclosure reports \\r\\n        submitted by lobbyists, lobbying entities, and their clients. Massachusetts General Law requires any party providing or retaining \\r\\n        lobbying services to register annually, and submit disclosure reports twice a year.  \\r\\n        \\n\\n\\nYour comments are welcome:\\xa0\\r\\n            submit feedback\\n\\n\\n\\n\\n\\n\\n\\n\\n\\n\\n\\nDisclosure reporting details\\n\\n\\n\\nBack to search detail summary\\n\\n\\n\\n\\nLobbyist Entity disclosure reporting period:\\r\\n                        \\xa0 \\r\\n                        07/01/2020 - 12/31/2020\\n\\n\\n\\n\\n\\n\\n\\n\\n\\nAuthorizing Officer name\\n\\n\\nHugh\\nR.\\nJones\\n\\n\\n\\n\\nTitle\\n\\n\\n\\n\\n\\n\\n\\nBusiness name\\n\\n\\n21c, LLC\\n\\n\\n\\n\\nAddress\\n\\n\\n7 Old Sudbury Road\\r\\n            \\xa0\\xa0\\r\\n            \\n\\n\\n\\n\\nCity, state, zip code\\n\\n\\nWayland, MA 01778\\r\\n            \\xa0\\xa0\\r\\n            \\r\\n            \\xa0\\xa0\\r\\n            \\r\\n            \\xa0\\xa0\\r\\n            \\r\\n        \\n\\n\\n\\nCountry\\n\\n\\nUSA\\n\\n\\n\\n\\nPhone\\n\\n\\n617-548-0493\\xa0\\r\\n        \\n\\n\\n\\n\\n\\n\\n\\n\\n\\n\\n\\n\\n\\n\\n\\n\\n\\n\\n\\n\\n\\nClient Compensation\\n\\n\\n\\n\\n\\n\\n\\nNameAmount\\n\\nMassachusetts Business Alliance for Education\\r\\n                                            $22,000.00\\r\\n                                        \\n\\nThe Education Trust Inc\\r\\n                                            $6,500.00\\r\\n                                        \\n\\nTotal salaries received\\n$28,500.00\\n\\n\\n\\n\\n\\n\\n\\n\\n\\n\\n\\n\\n\\xa0\\n\\n\\n\\nCompensation/Salaries Paid\\n\\n\\n\\n\\n\\n\\n\\nLobbyist or Entity nameSalaries\\n\\n\\nHugh Richard Jones, III\\n\\r\\n                            $28,500.00\\r\\n                        \\n\\nTotal salaries paid\\n$28,500.00\\n\\n\\n\\n\\n\\n\\n\\n\\xa0\\n\\n\\n\\n\\nActivities, Bill Numbers and Titles\\n\\n\\n\\n\\n\\n\\n\\n\\nNo activities, bill numbers or bill titles were disclosed for this reporting period.\\n\\n\\n\\n\\n\\n\\n\\xa0\\n\\n\\n\\n\\nOperating Expenses\\n\\n\\n\\n\\n\\n\\n\\nNo operating expenses were filed for this disclosure reporting period.\\n\\n\\n\\n\\n\\n\\n\\xa0\\n\\n\\n\\n\\nMeals, Travel, and Entertainment Expenses\\n\\n\\n\\n\\n\\n\\n\\nNo meals, travel, or entertainment expenses were filed for this disclosure reporting period.\\n\\n\\n\\n\\n\\n\\n\\xa0\\n\\n\\n\\nAdditional Expenses\\n\\n\\n\\n\\n\\n\\n\\nNo additional expenses were filed for this disclosure reporting period.\\n\\n\\n\\n\\n\\n\\n\\xa0\\n\\n\\n\\nCampaign Contributions\\n\\n\\n\\n\\n\\n\\n\\nNo campaign contributions were filed for this disclosure reporting period.\\n\\n\\n\\n\\n\\n\\n\\xa0\\n\\n\\n\\n\\n\\n\\n\\n\\n\\nLobbyist: Hugh Richard Jones, III\\n\\n\\n\\n\\n\\n\\n\\n\\n\\n\\nClient:\\nMassachusetts Business Alliance for Education\\n\\n\\n\\n\\n\\n\\n\\n\\n\\n\\n\\n\\n\\n\\n\\n\\nHouse / SenateBill Number or Agency NameBill title or activityAgent positionAmountDirect business association\\n\\n\\nExecutive\\n\\nOther \\n\\nEfforts to grow and expand the Commonwealth's early college/college-in-high-school programs. \\n\\nSupport\\n\\r\\n                                                    $0.00\\r\\n                                                \\nN/A \\n\\n\\n\\nHouse Bill\\n\\n2 \\n\\nAn Act making appropriations for the fiscal year 2021 for the maintenance of the departments, boards, commissions, institutions, and certain activities of the commonwealth, for interest, sinking fund, and serial bond requirements, and for certain permanent improvements \\n\\nSupport\\n\\r\\n                                                    $0.00\\r\\n                                                \\nN/A \\n\\n\\n\\xa0\\xa0\\xa0\\nTotal amount\\n\\n$0.00\\n\\xa0\\n\\n\\n\\n\\n\\n\\n\\n\\n\\n\\nLobbyist: Hugh Richard Jones, III\\n\\n\\n\\n\\n\\n\\n\\n\\n\\n\\nClient:\\nThe Education Trust Inc\\n\\n\\n\\n\\n\\n\\n\\n\\n\\n\\n\\n\\n\\n\\n\\n\\nHouse / SenateBill Number or Agency NameBill title or activityAgent positionAmountDirect business association\\n\\n\\nHouse Bill\\n\\n2 \\n\\nAn Act making appropriations for the fiscal year 2021 for the maintenance of the departments, boards, commissions, institutions, and certain activities of the commonwealth, for interest, sinking fund, and serial bond requirements, and for certain permanent improvements \\n\\nSupport\\n\\r\\n                                                    $0.00\\r\\n                                                \\nN/A \\n\\n\\n\\nExecutive\\n\\nOther \\n\\nEfforts to address the Commonwealth's education equity gaps and related responses to the COVID-19 pandemic. \\n\\nSupport\\n\\r\\n                                                    $0.00\\r\\n                                                \\nN/A \\n\\n\\n\\xa0\\xa0\\xa0\\nTotal amount\\n\\n$0.00\\n\\xa0\\n\\n\\n\\n\\n\\n\\n\\n\\n\\n\\xa0\\r\\n                                \\n\\n\\n\\nMeals, Travel, and Entertainment Expenses\\n\\n\\n\\n\\n\\n\\n\\nNo meals, travel, or entertainment expenses were filed for this disclosure reporting period.\\n\\n\\n\\n\\n\\n\\n\\xa0\\n\\n\\n\\nAdditional Expenses\\n\\n\\n\\n\\n\\n\\n\\nNo additional expenses were filed for this disclosure reporting period.\\n\\n\\n\\n\\n\\n\\n\\xa0\\n\\n\\n\\nCampaign Contributions\\n\\n\\n\\n\\n\\n\\n\\nNo campaign contributions were filed for this disclosure reporting period.\\n\\n\\n\\n\\n\\n\\n\\n\\n\\n\\n\\n\\n\\n\\n\\n\\n\\n\\n\\n\\nClose this page\\n\\n\\n\\n\\n\\n\\n\\nWilliam Francis Galvin, Secretary of the Commonwealth of Massachusetts\\nTerms and Conditions\\nAccessibility Statement\\n\\n\\n\\n\\n\\n\\n\\n\\n\""
      ]
     },
     "execution_count": 13,
     "metadata": {},
     "output_type": "execute_result"
    }
   ],
   "source": [
    "comp[0].soup.text"
   ]
  },
  {
   "cell_type": "code",
   "execution_count": 7,
   "metadata": {},
   "outputs": [
    {
     "data": {
      "text/plain": [
       "{'Both', 'ExecutiveAgent', 'LegislativeAgent', 'None', nan}"
      ]
     },
     "execution_count": 7,
     "metadata": {},
     "output_type": "execute_result"
    }
   ],
   "source": [
    "set([page.tables['Headers']['Agent type'][1] for page in pages])"
   ]
  },
  {
   "cell_type": "code",
   "execution_count": 3,
   "metadata": {},
   "outputs": [
    {
     "data": {
      "text/plain": [
       "[]"
      ]
     },
     "execution_count": 3,
     "metadata": {},
     "output_type": "execute_result"
    }
   ],
   "source": [
    "possible_tables = ['Headers','Campaign Contributions','Activities','Client Compensation']\n",
    "[page.tables.keys() for page in pages if possible_tables[3] in page.tables.keys()]"
   ]
  },
  {
   "cell_type": "code",
   "execution_count": 3,
   "metadata": {},
   "outputs": [
    {
     "data": {
      "text/html": [
       "<div>\n",
       "<style scoped>\n",
       "    .dataframe tbody tr th:only-of-type {\n",
       "        vertical-align: middle;\n",
       "    }\n",
       "\n",
       "    .dataframe tbody tr th {\n",
       "        vertical-align: top;\n",
       "    }\n",
       "\n",
       "    .dataframe thead th {\n",
       "        text-align: right;\n",
       "    }\n",
       "</style>\n",
       "<table border=\"1\" class=\"dataframe\">\n",
       "  <thead>\n",
       "    <tr style=\"text-align: right;\">\n",
       "      <th></th>\n",
       "      <th>Authorizing Officer name</th>\n",
       "      <th>Lobbyist name</th>\n",
       "      <th>Title</th>\n",
       "      <th>Business name</th>\n",
       "      <th>Address</th>\n",
       "      <th>City, state, zip code</th>\n",
       "      <th>Country</th>\n",
       "      <th>Agent type</th>\n",
       "      <th>Phone</th>\n",
       "    </tr>\n",
       "  </thead>\n",
       "  <tbody>\n",
       "  </tbody>\n",
       "</table>\n",
       "</div>"
      ],
      "text/plain": [
       "Empty DataFrame\n",
       "Columns: [Authorizing Officer name, Lobbyist name, Title, Business name, Address, City, state, zip code, Country, Agent type, Phone]\n",
       "Index: []"
      ]
     },
     "execution_count": 3,
     "metadata": {},
     "output_type": "execute_result"
    }
   ],
   "source": [
    "columns =['Authorizing Officer name','Lobbyist name','Title','Business name','Address','City, state, zip code','Country','Agent type','Phone']\n",
    "pd.DataFrame(columns=columns)"
   ]
  },
  {
   "cell_type": "code",
   "execution_count": 54,
   "metadata": {},
   "outputs": [],
   "source": [
    "page = pages[0]\n",
    "columns =['Authorizing Officer name','Lobbyist name','Title','Business name','Address','City, state, zip code','Country','Agent type','Phone']\n",
    "header_df = page.dfs[5][0:7].transpose() #Extract header table and orient it properly\n",
    "header_df.columns = header_df.iloc[0] #Pull the column names from the first row...\n",
    "header_df = header_df[1:] # ... and then drop that row\n",
    "page.update_table('Headers', header_df)\n"
   ]
  },
  {
   "cell_type": "code",
   "execution_count": 55,
   "metadata": {},
   "outputs": [
    {
     "data": {
      "text/plain": [
       "'\\n\\n\\n\\n\\n\\n\\n\\n\\r\\n\\tLobbyist Public Search\\r\\n\\n\\n\\n\\n\\n  \\n\\n\\n\\n\\nHome\\nDirections\\nContact Us\\n\\n\\n\\n\\n\\n\\n\\n\\n\\n\\n\\n\\n\\n\\n\\n\\n\\n\\n\\n\\n\\n\\nLobbyist Public Search\\n\\n\\n\\n\\n\\n\\n\\n\\n\\r\\n            Records prior to registration year 2005 are not available online. \\r\\n            \\n\\r\\n            \\r\\n            Contact the Lobbyist Division here for assistance.\\r\\n        \\nSearch data is collected from registration records and disclosure reports \\r\\n        submitted by lobbyists, lobbying entities, and their clients. Massachusetts General Law requires any party providing or retaining \\r\\n        lobbying services to register annually, and submit disclosure reports twice a year.  \\r\\n        \\n\\n\\nYour comments are welcome:\\xa0\\r\\n            submit feedback\\n\\n\\n\\n\\n\\n\\n\\n\\n\\n\\n\\nDisclosure reporting details\\n\\n\\n\\nBack to search detail summary\\n\\n\\n\\n\\nLobbyist disclosure reporting period:\\r\\n                        \\xa0 \\r\\n                        01/01/2005 - 06/30/2005\\n\\n\\n\\n\\n\\n\\n\\n\\n\\nLobbyist name\\n\\n\\nAlona\\n\\nAbalos\\r\\n            \\xa0\\xa0\\r\\n            \\r\\n        \\n\\n\\n\\nBusiness name\\n\\n\\n\\n\\n\\n\\n\\nAddress\\n\\n\\nc/o Blue Cross Blue Shield of Mass.\\r\\n            \\xa0\\xa0\\r\\n            Landmark Center, 401 Park Drive\\n\\n\\n\\n\\nCity, state, zip code\\n\\n\\nBoston, MA 022153326\\r\\n            \\xa0\\xa0\\r\\n            \\r\\n            \\xa0\\xa0\\r\\n            \\r\\n            \\xa0\\xa0\\r\\n            \\r\\n        \\n\\n\\n\\nCountry\\n\\n\\nUS\\n\\n\\n\\n\\nAgent type\\n\\n\\nNone\\n\\n\\n\\n\\nPhone\\n\\n\\n617-246-3620\\n\\n\\n\\n\\n\\n\\n\\n\\n\\n\\n\\n\\n\\n\\n\\n\\n\\n\\n\\n\\n\\xa0\\n\\n\\n\\n\\n\\n\\n\\n\\n\\n\\n\\xa0\\n\\n\\n\\nOperating Expenses\\n\\n\\n\\n\\n\\n\\n\\nNo operating expenses were filed for this disclosure reporting period.\\n\\n\\n\\n\\n\\n\\n\\xa0\\n\\n\\n\\n\\nActivities, Bill Numbers and Titles\\n\\n\\n\\n\\n\\n\\n\\n\\nDateActivity or Bill No and TitleClient represented\\n\\n1/05-6/28/05\\nS.560, S.565, S.582, S.738, S.2042, S.2043, S.2100, S. 2101, H.1A, H.2777, H.2923, H.2924, H.2990, H.3020, H.3047, H.4000, H. 4001, H.4200, 105 CMR 128.00 (OPP Regs), 211 CMR 38.00 (COB), 211 CMR 52.00 (Accred.), 211 CMR 66.00 (Small Group) \\nBlue Cross Blue Shield of Massachusetts\\n\\n\\n\\n\\n\\n\\n\\n\\n\\n\\n\\r\\n            \\xa0\\r\\n        \\n\\n\\n\\nMeals, Travel, and Entertainment Expenses\\n\\n\\n\\n\\n\\n\\n\\nNo meals, travel, or entertainment expenses were filed for this disclosure reporting period.\\n\\n\\n\\n\\n\\n\\n\\xa0\\n\\n\\n\\nAdditional Expenses\\n\\n\\n\\n\\n\\n\\n\\nNo additional expenses were filed for this disclosure reporting period.\\n\\n\\n\\n\\n\\n\\n\\xa0\\n\\n\\n\\nCampaign Contributions\\n\\n\\n\\n\\n\\n\\n\\nDateRecipient nameOffice soughtAmount\\n\\n4/4/05\\nMitt Romney \\n\\nGovernor of Massachusetts \\n\\r\\n                            $200.00\\r\\n                        \\n\\n5/24/05\\nAndrea F. Nuciforo, Jr. \\n\\nMassachusetts Senate-Berkshire, Hampden and Hampsh \\n\\r\\n                            $150.00\\r\\n                        \\n\\n5/3/05\\nRonald Mariano \\n\\nMassachusetts House of Representatives-3rd Norfolk \\n\\r\\n                            $150.00\\r\\n                        \\n\\n5/4/05\\nBrian P. Lees \\n\\nMassachusetts Senate-1st Hampden and Hampshire \\n\\r\\n                            $200.00\\r\\n                        \\n\\n\\xa0\\xa0Total contributions\\n$700.00\\n\\n\\n\\n\\n\\n\\n\\n\\n\\n\\n\\n\\n\\n\\n\\n\\n\\nClose this page\\n\\n\\n\\n\\n\\n\\n\\nWilliam Francis Galvin, Secretary of the Commonwealth of Massachusetts\\nTerms and Conditions\\nAccessibility Statement\\n\\n\\n\\n\\n\\n\\n\\n'"
      ]
     },
     "execution_count": 55,
     "metadata": {},
     "output_type": "execute_result"
    }
   ],
   "source": [
    "page.soup.text"
   ]
  },
  {
   "cell_type": "code",
   "execution_count": 9,
   "metadata": {},
   "outputs": [
    {
     "ename": "TypeError",
     "evalue": "startswith first arg must be bytes or a tuple of bytes, not str",
     "output_type": "error",
     "traceback": [
      "\u001b[1;31m---------------------------------------------------------------------------\u001b[0m",
      "\u001b[1;31mTypeError\u001b[0m                                 Traceback (most recent call last)",
      "\u001b[1;32mc:\\Users\\geekc\\Code\\jigsaw\\Intern Stuff\\advocacy-maps\\lobbying\\lobbydoodles.ipynb Cell 13\u001b[0m in \u001b[0;36m<cell line: 3>\u001b[1;34m()\u001b[0m\n\u001b[0;32m      <a href='vscode-notebook-cell:/c%3A/Users/geekc/Code/jigsaw/Intern%20Stuff/advocacy-maps/lobbying/lobbydoodles.ipynb#X11sZmlsZQ%3D%3D?line=0'>1</a>\u001b[0m \u001b[39mfrom\u001b[39;00m \u001b[39mIPython\u001b[39;00m\u001b[39m.\u001b[39;00m\u001b[39mdisplay\u001b[39;00m \u001b[39mimport\u001b[39;00m HTML\n\u001b[1;32m----> <a href='vscode-notebook-cell:/c%3A/Users/geekc/Code/jigsaw/Intern%20Stuff/advocacy-maps/lobbying/lobbydoodles.ipynb#X11sZmlsZQ%3D%3D?line=2'>3</a>\u001b[0m HTML(html)\n",
      "File \u001b[1;32mc:\\Users\\geekc\\AppData\\Local\\Programs\\Python\\Python310\\lib\\site-packages\\IPython\\core\\display.py:418\u001b[0m, in \u001b[0;36mHTML.__init__\u001b[1;34m(self, data, url, filename, metadata)\u001b[0m\n\u001b[0;32m    415\u001b[0m     suffix \u001b[39m=\u001b[39m data[\u001b[39m-\u001b[39m\u001b[39m10\u001b[39m:]\u001b[39m.\u001b[39mlower()\n\u001b[0;32m    416\u001b[0m     \u001b[39mreturn\u001b[39;00m prefix\u001b[39m.\u001b[39mstartswith(\u001b[39m\"\u001b[39m\u001b[39m<iframe \u001b[39m\u001b[39m\"\u001b[39m) \u001b[39mand\u001b[39;00m suffix\u001b[39m.\u001b[39mendswith(\u001b[39m\"\u001b[39m\u001b[39m</iframe>\u001b[39m\u001b[39m\"\u001b[39m)\n\u001b[1;32m--> 418\u001b[0m \u001b[39mif\u001b[39;00m warn():\n\u001b[0;32m    419\u001b[0m     warnings\u001b[39m.\u001b[39mwarn(\u001b[39m\"\u001b[39m\u001b[39mConsider using IPython.display.IFrame instead\u001b[39m\u001b[39m\"\u001b[39m)\n\u001b[0;32m    420\u001b[0m \u001b[39msuper\u001b[39m(HTML, \u001b[39mself\u001b[39m)\u001b[39m.\u001b[39m\u001b[39m__init__\u001b[39m(data\u001b[39m=\u001b[39mdata, url\u001b[39m=\u001b[39murl, filename\u001b[39m=\u001b[39mfilename, metadata\u001b[39m=\u001b[39mmetadata)\n",
      "File \u001b[1;32mc:\\Users\\geekc\\AppData\\Local\\Programs\\Python\\Python310\\lib\\site-packages\\IPython\\core\\display.py:416\u001b[0m, in \u001b[0;36mHTML.__init__.<locals>.warn\u001b[1;34m()\u001b[0m\n\u001b[0;32m    414\u001b[0m prefix \u001b[39m=\u001b[39m data[:\u001b[39m10\u001b[39m]\u001b[39m.\u001b[39mlower()\n\u001b[0;32m    415\u001b[0m suffix \u001b[39m=\u001b[39m data[\u001b[39m-\u001b[39m\u001b[39m10\u001b[39m:]\u001b[39m.\u001b[39mlower()\n\u001b[1;32m--> 416\u001b[0m \u001b[39mreturn\u001b[39;00m prefix\u001b[39m.\u001b[39;49mstartswith(\u001b[39m\"\u001b[39;49m\u001b[39m<iframe \u001b[39;49m\u001b[39m\"\u001b[39;49m) \u001b[39mand\u001b[39;00m suffix\u001b[39m.\u001b[39mendswith(\u001b[39m\"\u001b[39m\u001b[39m</iframe>\u001b[39m\u001b[39m\"\u001b[39m)\n",
      "\u001b[1;31mTypeError\u001b[0m: startswith first arg must be bytes or a tuple of bytes, not str"
     ]
    }
   ],
   "source": [
    "from IPython.display import HTML\n",
    "\n",
    "HTML(html)"
   ]
  },
  {
   "cell_type": "code",
   "execution_count": null,
   "metadata": {},
   "outputs": [],
   "source": [
    "# Header:\n",
    "# Authorizing Officer name / Lobbyist name\n",
    "# Title / NA\n",
    "# Business name / Business name\n",
    "# Address / Address\n",
    "# City, state, zip code / Citym, state, zip code\n",
    "# country / country\n",
    "# NA / Agent Type\n",
    "\n",
    "#TABLES:\n",
    "# Entities\n",
    "# Lobbyists\n",
    "# Client Compensation\n",
    "# Compensation/Salaries Paid\n",
    "# Activities, Bill Numbers and Titles\n",
    "# Operating Expenses\n",
    "# Meals, Travel, and Entertainment Expenses\n",
    "# Additional Expenses\n",
    "# Campaign Contributions"
   ]
  }
 ],
 "metadata": {
  "kernelspec": {
   "display_name": "Python 3.10.8 64-bit",
   "language": "python",
   "name": "python3"
  },
  "language_info": {
   "codemirror_mode": {
    "name": "ipython",
    "version": 3
   },
   "file_extension": ".py",
   "mimetype": "text/x-python",
   "name": "python",
   "nbconvert_exporter": "python",
   "pygments_lexer": "ipython3",
   "version": "3.10.8"
  },
  "orig_nbformat": 4,
  "vscode": {
   "interpreter": {
    "hash": "300fbccfaa1afd04bb86653fbdee52f26c731e37f5150715ebdacf05ee18f2ba"
   }
  }
 },
 "nbformat": 4,
 "nbformat_minor": 2
}
