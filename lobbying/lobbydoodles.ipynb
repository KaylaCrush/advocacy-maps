{
 "cells": [
  {
   "cell_type": "code",
   "execution_count": 1,
   "metadata": {},
   "outputs": [],
   "source": [
    "from src.lobbyingDataPage import *\n",
    "from src.lobbyingScraper import *\n",
    "\n",
    "import pickle\n",
    "with open(\"tests/testfiles/2005html.pkl\", \"rb\") as f:\n",
    "    html05 = pickle.load(f)\n",
    "with open(\"tests/testfiles/2020html.pkl\", \"rb\") as f:\n",
    "    html20 = pickle.load(f)\n",
    "test_htmls = html05.__add__(html20)"
   ]
  },
  {
   "cell_type": "code",
   "execution_count": 2,
   "metadata": {},
   "outputs": [],
   "source": [
    "%%capture\n",
    "pages = convert_html_list(test_htmls[::10])"
   ]
  },
  {
   "cell_type": "code",
   "execution_count": 5,
   "metadata": {},
   "outputs": [
    {
     "data": {
      "text/plain": [
       "[<src.lobbyingDataPage.EntityDataPage at 0x1fa16fe5420>,\n",
       " <src.lobbyingDataPage.LobbyistDataPage at 0x1fa170735b0>,\n",
       " <src.lobbyingDataPage.EntityDataPage at 0x1fa17106860>,\n",
       " <src.lobbyingDataPage.LobbyistDataPage at 0x1fa17171990>,\n",
       " <src.lobbyingDataPage.EntityDataPage at 0x1fa17204d60>,\n",
       " <src.lobbyingDataPage.LobbyistDataPage at 0x1fa172abc70>,\n",
       " <src.lobbyingDataPage.LobbyistDataPage at 0x1fa173619f0>,\n",
       " <src.lobbyingDataPage.EntityDataPage at 0x1fa17446230>,\n",
       " <src.lobbyingDataPage.LobbyistDataPage at 0x1fa17ac9690>,\n",
       " <src.lobbyingDataPage.EntityDataPage at 0x1fa17c72da0>,\n",
       " <src.lobbyingDataPage.LobbyistDataPage at 0x1fa17d00a00>,\n",
       " <src.lobbyingDataPage.EntityDataPage at 0x1fa17d538b0>,\n",
       " <src.lobbyingDataPage.EntityDataPage at 0x1fa1841a140>,\n",
       " <src.lobbyingDataPage.LobbyistDataPage at 0x1fa1a4cfa30>]"
      ]
     },
     "execution_count": 5,
     "metadata": {},
     "output_type": "execute_result"
    }
   ],
   "source": [
    "[page for page in pages if 'Activities' in page.tables.keys()]\n"
   ]
  },
  {
   "cell_type": "code",
   "execution_count": 4,
   "metadata": {},
   "outputs": [],
   "source": [
    "soup = bs(html, 'html.parser')"
   ]
  },
  {
   "cell_type": "code",
   "execution_count": 9,
   "metadata": {},
   "outputs": [
    {
     "name": "stdout",
     "output_type": "stream",
     "text": [
      "  House / Senate Bill Number or Agency Name  \\\n",
      "0      Executive                      Other   \n",
      "1     House Bill                          2   \n",
      "\n",
      "                              Bill title or activity Agent position Amount  \\\n",
      "0  Efforts to grow and expand the Commonwealth's ...        Support  $0.00   \n",
      "1  An Act making appropriations for the fiscal ye...        Support  $0.00   \n",
      "\n",
      "  Direct business association                   Client Lobbyist  \n",
      "0                         N/A  Hugh Richard Jones, III           \n",
      "1                         N/A  Hugh Richard Jones, III           \n",
      "  House / Senate Bill Number or Agency Name  \\\n",
      "0     House Bill                          2   \n",
      "1      Executive                      Other   \n",
      "\n",
      "                              Bill title or activity Agent position Amount  \\\n",
      "0  An Act making appropriations for the fiscal ye...        Support  $0.00   \n",
      "1  Efforts to address the Commonwealth's educatio...        Support  $0.00   \n",
      "\n",
      "  Direct business association                   Client Lobbyist  \n",
      "0                         N/A  Hugh Richard Jones, III           \n",
      "1                         N/A  Hugh Richard Jones, III           \n"
     ]
    }
   ],
   "source": [
    "def query_page(soup, table_header, table_footer, string=\"\"):\n",
    "    if not string:\n",
    "        string = soup.text\n",
    "\n",
    "    query_string = fr\"(?<={table_header}).*?(?={table_footer})\"\n",
    "    query = re.compile(query_string,re.DOTALL)\n",
    "    query_results = re.findall(query, string)\n",
    "    return query_results\n",
    "\n",
    "def pull_table(query_result, columns):\n",
    "        split_text=[line.strip() for line in query_result.split('\\n') if line.strip()]\n",
    "        divided_text = list(divide_chunks(split_text, len(columns)))\n",
    "        table_df = pd.DataFrame(divided_text, columns=columns)\n",
    "        return table_df\n",
    "\n",
    "columns = ['House / Senate','Bill Number or Agency Name','Bill title or activity','Agent position','Amount','Direct business association']\n",
    "header = r\"\".join(columns)\n",
    "footer = r'\\xa0\\xa0\\xa0\\nTotal'\n",
    "query_results = query_page(soup, r'Lobbyist: ', r' amount\\n')\n",
    "for query_result in query_results:\n",
    "    activities_table=query_page(soup, header, footer, query_result)[0]\n",
    "    activities_df = pull_table(activities_table, columns)\n",
    "    activities_df['Client'] = query_results[0].split('\\n')[0]\n",
    "    activities_df['Lobbyist'] = query_results[0].split('\\n')[2]\n",
    "    print(activities_df)"
   ]
  },
  {
   "cell_type": "code",
   "execution_count": 30,
   "metadata": {},
   "outputs": [
    {
     "data": {
      "text/plain": [
       "\"Hugh Richard Jones, III\\n\\n\\n\\n\\n\\n\\n\\n\\n\\n\\nClient:\\nMassachusetts Business Alliance for Education\\n\\n\\n\\n\\n\\n\\n\\n\\n\\n\\n\\n\\n\\n\\n\\n\\nHouse / SenateBill Number or Agency NameBill title or activityAgent positionAmountDirect business association\\n\\n\\nExecutive\\n\\nOther \\n\\nEfforts to grow and expand the Commonwealth's early college/college-in-high-school programs. \\n\\nSupport\\n\\r\\n                                                    $0.00\\r\\n                                                \\nN/A \\n\\n\\n\\nHouse Bill\\n\\n2 \\n\\nAn Act making appropriations for the fiscal year 2021 for the maintenance of the departments, boards, commissions, institutions, and certain activities of the commonwealth, for interest, sinking fund, and serial bond requirements, and for certain permanent improvements \\n\\nSupport\\n\\r\\n                                                    $0.00\\r\\n                                                \\nN/A \\n\\n\\n\\xa0\\xa0\\xa0\\nTotal\""
      ]
     },
     "execution_count": 30,
     "metadata": {},
     "output_type": "execute_result"
    }
   ],
   "source": [
    "query_result"
   ]
  },
  {
   "cell_type": "code",
   "execution_count": 29,
   "metadata": {},
   "outputs": [
    {
     "data": {
      "text/plain": [
       "'House / SenateBill Number or Agency NameBill Title or activityAgent positionAmountDirect business association'"
      ]
     },
     "execution_count": 29,
     "metadata": {},
     "output_type": "execute_result"
    }
   ],
   "source": [
    "header"
   ]
  },
  {
   "cell_type": "code",
   "execution_count": 25,
   "metadata": {},
   "outputs": [
    {
     "data": {
      "text/plain": [
       "'House/SenateBill Number or Agency NameBill Title or activityAgent positionAmountDirect business association'"
      ]
     },
     "execution_count": 25,
     "metadata": {},
     "output_type": "execute_result"
    }
   ],
   "source": [
    "header"
   ]
  },
  {
   "cell_type": "code",
   "execution_count": 21,
   "metadata": {},
   "outputs": [
    {
     "data": {
      "text/plain": [
       "[]"
      ]
     },
     "execution_count": 21,
     "metadata": {},
     "output_type": "execute_result"
    }
   ],
   "source": [
    "query_string = fr\"(?<={header}).*?(?={footer})\"\n",
    "query = re.compile(query_string,re.DOTALL)\n",
    "query_results = re.findall(query, query_result)\n",
    "query_results\n"
   ]
  },
  {
   "cell_type": "code",
   "execution_count": 11,
   "metadata": {},
   "outputs": [
    {
     "data": {
      "text/plain": [
       "\"\\n\\n\\n\\n\\n\\n\\n\\n\\r\\n\\tLobbyist Public Search\\r\\n\\n\\n\\n\\n\\n  \\n\\n\\n\\n\\nHome\\nDirections\\nContact Us\\n\\n\\n\\n\\n\\n\\n\\n\\n\\n\\n\\n\\n\\n\\n\\n\\n\\n\\n\\n\\n\\n\\nLobbyist Public Search\\n\\n\\n\\n\\n\\n\\n\\n\\n\\r\\n            Records prior to registration year 2005 are not available online. \\r\\n            \\n\\r\\n            \\r\\n            Contact the Lobbyist Division here for assistance.\\r\\n        \\nSearch data is collected from registration records and disclosure reports \\r\\n        submitted by lobbyists, lobbying entities, and their clients. Massachusetts General Law requires any party providing or retaining \\r\\n        lobbying services to register annually, and submit disclosure reports twice a year.  \\r\\n        \\n\\n\\nYour comments are welcome:\\xa0\\r\\n            submit feedback\\n\\n\\n\\n\\n\\n\\n\\n\\n\\n\\n\\nDisclosure reporting details\\n\\n\\n\\nBack to search detail summary\\n\\n\\n\\n\\nLobbyist Entity disclosure reporting period:\\r\\n                        \\xa0 \\r\\n                        07/01/2020 - 12/31/2020\\n\\n\\n\\n\\n\\n\\n\\n\\n\\nAuthorizing Officer name\\n\\n\\nHugh\\nR.\\nJones\\n\\n\\n\\n\\nTitle\\n\\n\\n\\n\\n\\n\\n\\nBusiness name\\n\\n\\n21c, LLC\\n\\n\\n\\n\\nAddress\\n\\n\\n7 Old Sudbury Road\\r\\n            \\xa0\\xa0\\r\\n            \\n\\n\\n\\n\\nCity, state, zip code\\n\\n\\nWayland, MA 01778\\r\\n            \\xa0\\xa0\\r\\n            \\r\\n            \\xa0\\xa0\\r\\n            \\r\\n            \\xa0\\xa0\\r\\n            \\r\\n        \\n\\n\\n\\nCountry\\n\\n\\nUSA\\n\\n\\n\\n\\nPhone\\n\\n\\n617-548-0493\\xa0\\r\\n        \\n\\n\\n\\n\\n\\n\\n\\n\\n\\n\\n\\n\\n\\n\\n\\n\\n\\n\\n\\n\\n\\nClient Compensation\\n\\n\\n\\n\\n\\n\\n\\nNameAmount\\n\\nMassachusetts Business Alliance for Education\\r\\n                                            $22,000.00\\r\\n                                        \\n\\nThe Education Trust Inc\\r\\n                                            $6,500.00\\r\\n                                        \\n\\nTotal salaries received\\n$28,500.00\\n\\n\\n\\n\\n\\n\\n\\n\\n\\n\\n\\n\\n\\xa0\\n\\n\\n\\nCompensation/Salaries Paid\\n\\n\\n\\n\\n\\n\\n\\nLobbyist or Entity nameSalaries\\n\\n\\nHugh Richard Jones, III\\n\\r\\n                            $28,500.00\\r\\n                        \\n\\nTotal salaries paid\\n$28,500.00\\n\\n\\n\\n\\n\\n\\n\\n\\xa0\\n\\n\\n\\n\\nActivities, Bill Numbers and Titles\\n\\n\\n\\n\\n\\n\\n\\n\\nNo activities, bill numbers or bill titles were disclosed for this reporting period.\\n\\n\\n\\n\\n\\n\\n\\xa0\\n\\n\\n\\n\\nOperating Expenses\\n\\n\\n\\n\\n\\n\\n\\nNo operating expenses were filed for this disclosure reporting period.\\n\\n\\n\\n\\n\\n\\n\\xa0\\n\\n\\n\\n\\nMeals, Travel, and Entertainment Expenses\\n\\n\\n\\n\\n\\n\\n\\nNo meals, travel, or entertainment expenses were filed for this disclosure reporting period.\\n\\n\\n\\n\\n\\n\\n\\xa0\\n\\n\\n\\nAdditional Expenses\\n\\n\\n\\n\\n\\n\\n\\nNo additional expenses were filed for this disclosure reporting period.\\n\\n\\n\\n\\n\\n\\n\\xa0\\n\\n\\n\\nCampaign Contributions\\n\\n\\n\\n\\n\\n\\n\\nNo campaign contributions were filed for this disclosure reporting period.\\n\\n\\n\\n\\n\\n\\n\\xa0\\n\\n\\n\\n\\n\\n\\n\\n\\n\\nLobbyist: Hugh Richard Jones, III\\n\\n\\n\\n\\n\\n\\n\\n\\n\\n\\nClient:\\nMassachusetts Business Alliance for Education\\n\\n\\n\\n\\n\\n\\n\\n\\n\\n\\n\\n\\n\\n\\n\\n\\nHouse / SenateBill Number or Agency NameBill title or activityAgent positionAmountDirect business association\\n\\n\\nExecutive\\n\\nOther \\n\\nEfforts to grow and expand the Commonwealth's early college/college-in-high-school programs. \\n\\nSupport\\n\\r\\n                                                    $0.00\\r\\n                                                \\nN/A \\n\\n\\n\\nHouse Bill\\n\\n2 \\n\\nAn Act making appropriations for the fiscal year 2021 for the maintenance of the departments, boards, commissions, institutions, and certain activities of the commonwealth, for interest, sinking fund, and serial bond requirements, and for certain permanent improvements \\n\\nSupport\\n\\r\\n                                                    $0.00\\r\\n                                                \\nN/A \\n\\n\\n\\xa0\\xa0\\xa0\\nTotal amount\\n\\n$0.00\\n\\xa0\\n\\n\\n\\n\\n\\n\\n\\n\\n\\n\\nLobbyist: Hugh Richard Jones, III\\n\\n\\n\\n\\n\\n\\n\\n\\n\\n\\nClient:\\nThe Education Trust Inc\\n\\n\\n\\n\\n\\n\\n\\n\\n\\n\\n\\n\\n\\n\\n\\n\\nHouse / SenateBill Number or Agency NameBill title or activityAgent positionAmountDirect business association\\n\\n\\nHouse Bill\\n\\n2 \\n\\nAn Act making appropriations for the fiscal year 2021 for the maintenance of the departments, boards, commissions, institutions, and certain activities of the commonwealth, for interest, sinking fund, and serial bond requirements, and for certain permanent improvements \\n\\nSupport\\n\\r\\n                                                    $0.00\\r\\n                                                \\nN/A \\n\\n\\n\\nExecutive\\n\\nOther \\n\\nEfforts to address the Commonwealth's education equity gaps and related responses to the COVID-19 pandemic. \\n\\nSupport\\n\\r\\n                                                    $0.00\\r\\n                                                \\nN/A \\n\\n\\n\\xa0\\xa0\\xa0\\nTotal amount\\n\\n$0.00\\n\\xa0\\n\\n\\n\\n\\n\\n\\n\\n\\n\\n\\xa0\\r\\n                                \\n\\n\\n\\nMeals, Travel, and Entertainment Expenses\\n\\n\\n\\n\\n\\n\\n\\nNo meals, travel, or entertainment expenses were filed for this disclosure reporting period.\\n\\n\\n\\n\\n\\n\\n\\xa0\\n\\n\\n\\nAdditional Expenses\\n\\n\\n\\n\\n\\n\\n\\nNo additional expenses were filed for this disclosure reporting period.\\n\\n\\n\\n\\n\\n\\n\\xa0\\n\\n\\n\\nCampaign Contributions\\n\\n\\n\\n\\n\\n\\n\\nNo campaign contributions were filed for this disclosure reporting period.\\n\\n\\n\\n\\n\\n\\n\\n\\n\\n\\n\\n\\n\\n\\n\\n\\n\\n\\n\\n\\nClose this page\\n\\n\\n\\n\\n\\n\\n\\nWilliam Francis Galvin, Secretary of the Commonwealth of Massachusetts\\nTerms and Conditions\\nAccessibility Statement\\n\\n\\n\\n\\n\\n\\n\\n\\n\""
      ]
     },
     "execution_count": 11,
     "metadata": {},
     "output_type": "execute_result"
    }
   ],
   "source": [
    "soup.text"
   ]
  },
  {
   "cell_type": "code",
   "execution_count": 10,
   "metadata": {},
   "outputs": [
    {
     "data": {
      "text/plain": [
       "[<src.lobbyingDataPage.LobbyistDataPage at 0x27b68dad330>,\n",
       " <src.lobbyingDataPage.LobbyistDataPage at 0x27b68e89b40>,\n",
       " <src.lobbyingDataPage.LobbyistDataPage at 0x27b68f8fac0>,\n",
       " <src.lobbyingDataPage.LobbyistDataPage at 0x27b690362c0>,\n",
       " <src.lobbyingDataPage.LobbyistDataPage at 0x27b60771960>,\n",
       " <src.lobbyingDataPage.LobbyistDataPage at 0x27b5ef289a0>,\n",
       " <src.lobbyingDataPage.LobbyistDataPage at 0x27b60a3c070>]"
      ]
     },
     "execution_count": 10,
     "metadata": {},
     "output_type": "execute_result"
    }
   ],
   "source": [
    "[page for page in pages if 'Activities' in page.tables.keys()]"
   ]
  },
  {
   "cell_type": "code",
   "execution_count": null,
   "metadata": {},
   "outputs": [],
   "source": []
  },
  {
   "cell_type": "code",
   "execution_count": 14,
   "metadata": {},
   "outputs": [
    {
     "data": {
      "text/plain": [
       "[]"
      ]
     },
     "execution_count": 14,
     "metadata": {},
     "output_type": "execute_result"
    }
   ],
   "source": [
    "page.query_page(header, footer, query_result)"
   ]
  },
  {
   "cell_type": "code",
   "execution_count": 5,
   "metadata": {},
   "outputs": [],
   "source": [
    "individuals = [page for page in pages if 'Lobbyist Entity' not in page.soup.text]\n",
    "entities = [page for page in pages if 'Lobbyist Entity' in page.soup.text]"
   ]
  },
  {
   "cell_type": "code",
   "execution_count": 3,
   "metadata": {},
   "outputs": [
    {
     "data": {
      "text/plain": [
       "[<src.lobbyingDataPage.LobbyistDataPage at 0x1a6563e09a0>,\n",
       " <src.lobbyingDataPage.LobbyistDataPage at 0x1a67b278c70>,\n",
       " <src.lobbyingDataPage.LobbyistDataPage at 0x1a67b37e0e0>,\n",
       " <src.lobbyingDataPage.LobbyistDataPage at 0x1a67b4efd90>,\n",
       " <src.lobbyingDataPage.LobbyistDataPage at 0x1a67b74c340>,\n",
       " <src.lobbyingDataPage.LobbyistDataPage at 0x1a67d0a9b40>,\n",
       " <src.lobbyingDataPage.LobbyistDataPage at 0x1a67d7e7790>]"
      ]
     },
     "execution_count": 3,
     "metadata": {},
     "output_type": "execute_result"
    }
   ],
   "source": [
    "[page for page in pages if 'Campaign Contributions' in page.tables.keys()]"
   ]
  },
  {
   "cell_type": "code",
   "execution_count": null,
   "metadata": {},
   "outputs": [],
   "source": [
    "def get_campaign_contributions(page):\n",
    "    columns = ['Date','Recipient name','Office sought','Amount']\n",
    "    header = \"DateRecipient nameOffice soughtAmount\"\n",
    "    footer = \"\\xa0\\xa0Total contributions\"\n",
    "    query_string = fr\"(?<={header}).*?(?={footer})\"\n",
    "    query = re.compile(query_string,re.DOTALL)\n",
    "    query_results = re.findall(query, page.soup.text)\n",
    "    if not query_results:\n",
    "        return\n",
    "    for query_result in query_results:\n",
    "        split_text=[line.strip() for line in query_result.split('\\n') if line.strip()]\n",
    "        divided_text = list(divide_chunks(split_text, 4))\n",
    "        contributions_df = pd.DataFrame(divided_text, columns=columns)\n",
    "        page.update_table('Campaign Contributions', contributions_df)"
   ]
  },
  {
   "cell_type": "code",
   "execution_count": 5,
   "metadata": {},
   "outputs": [
    {
     "name": "stdout",
     "output_type": "stream",
     "text": [
      "True\n"
     ]
    }
   ],
   "source": [
    "page = pages[0]\n",
    "columns = ['Date','Recipient name','Office sought','Amount']\n",
    "header = r\"DateRecipient nameOffice soughtAmount\"\n",
    "footer = r\"\\xa0\\xa0Total contributions\"\n",
    "query_string = fr\"(?<={header}).*?(?={footer})\"\n",
    "query = re.compile(query_string,re.DOTALL)\n",
    "query_results = re.findall(query, page.soup.text)\n",
    "print(bool(query_results))\n",
    "for query_result in query_results:\n",
    "        split_text=[line.strip() for line in query_result.split('\\n') if line.strip()]\n",
    "        divided_text = list(divide_chunks(split_text, 4))\n",
    "        contributions_df = pd.DataFrame(divided_text, columns=columns)\n",
    "        page.update_table('Campaign Contributions', contributions_df)"
   ]
  },
  {
   "cell_type": "code",
   "execution_count": 6,
   "metadata": {},
   "outputs": [
    {
     "data": {
      "text/plain": [
       "dict_keys(['Headers', 'Activities', 'Campaign Contributions'])"
      ]
     },
     "execution_count": 6,
     "metadata": {},
     "output_type": "execute_result"
    }
   ],
   "source": [
    "page.tables.keys()"
   ]
  },
  {
   "cell_type": "code",
   "execution_count": null,
   "metadata": {},
   "outputs": [],
   "source": []
  },
  {
   "cell_type": "code",
   "execution_count": null,
   "metadata": {},
   "outputs": [],
   "source": [
    "    \n",
    "\n",
    "    \n",
    "\n",
    "    # Implemented seperately for lobbyists and entities?? NOPE\n",
    "    "
   ]
  },
  {
   "cell_type": "code",
   "execution_count": 14,
   "metadata": {},
   "outputs": [
    {
     "data": {
      "text/plain": [
       "'\\n\\n\\n\\n\\n\\n\\n\\n\\r\\n\\tLobbyist Public Search\\r\\n\\n\\n\\n\\n\\n  \\n\\n\\n\\n\\nHome\\nDirections\\nContact Us\\n\\n\\n\\n\\n\\n\\n\\n\\n\\n\\n\\n\\n\\n\\n\\n\\n\\n\\n\\n\\n\\n\\nLobbyist Public Search\\n\\n\\n\\n\\n\\n\\n\\n\\n\\r\\n            Records prior to registration year 2005 are not available online. \\r\\n            \\n\\r\\n            \\r\\n            Contact the Lobbyist Division here for assistance.\\r\\n        \\nSearch data is collected from registration records and disclosure reports \\r\\n        submitted by lobbyists, lobbying entities, and their clients. Massachusetts General Law requires any party providing or retaining \\r\\n        lobbying services to register annually, and submit disclosure reports twice a year.  \\r\\n        \\n\\n\\nYour comments are welcome:\\xa0\\r\\n            submit feedback\\n\\n\\n\\n\\n\\n\\n\\n\\n\\n\\n\\nDisclosure reporting details\\n\\n\\n\\nBack to search detail summary\\n\\n\\n\\n\\nLobbyist Entity disclosure reporting period:\\r\\n                        \\xa0 \\r\\n                        01/01/2005 - 06/30/2005\\n\\n\\n\\n\\n\\n\\n\\n\\n\\nAuthorizing Officer name\\n\\n\\nValerie\\n\\nBarsom\\n\\n\\n\\n\\nTitle\\n\\n\\n\\n\\n\\n\\n\\nBusiness name\\n\\n\\nBarsom Associates\\n\\n\\n\\n\\nAddress\\n\\n\\n21 Custom House Street Suite 300\\r\\n            \\xa0\\xa0\\r\\n            \\n\\n\\n\\n\\nCity, state, zip code\\n\\n\\nBoston, MA 02110\\r\\n            \\xa0\\xa0\\r\\n            \\r\\n            \\xa0\\xa0\\r\\n            \\r\\n            \\xa0\\xa0\\r\\n            \\r\\n        \\n\\n\\n\\nCountry\\n\\n\\nUS\\n\\n\\n\\n\\nPhone\\n\\n\\n617-407-6344\\xa0\\r\\n        \\n\\n\\n\\n\\n\\n\\n\\n\\n\\n\\n\\n\\n\\n\\n\\n\\n\\n\\n\\n\\xa0\\n\\n\\n\\nCompensation/Salaries Paid\\n\\n\\n\\n\\n\\n\\n\\nLobbyist or Entity nameSalaries\\n\\n\\nValerie Barsom\\n\\r\\n                            $79,250.00\\r\\n                        \\n\\nTotal salaries paid\\n$79,250.00\\n\\n\\n\\n\\n\\n\\n\\n\\xa0\\n\\n\\n\\nOperating Expenses\\n\\n\\n\\n\\n\\n\\n\\nDateRecipientType of expenseAmount\\n\\n1/7/05\\nT- Mobile \\n\\nTelephone, cell phone, handheld\\n\\r\\n                        $132.00\\r\\n\\r\\n                        \\n\\n4/22/05\\nT-Mobile \\n\\nTelephone, cell phone, handheld\\n\\r\\n                        $126.00\\r\\n\\r\\n                        \\n\\n6/08/05\\nT-Mobile \\n\\nTelephone, cell phone, handheld\\n\\r\\n                        $247.00\\r\\n\\r\\n                        \\n\\n\\xa0\\xa0Total operating expenses\\n$505.00\\n\\n\\n\\n\\n\\n\\n\\n\\xa0\\n\\n\\n\\n\\nActivities, Bill Numbers and Titles\\n\\n\\n\\n\\n\\n\\n\\n\\nDateActivity or Bill No and TitleLobbyist nameClient represented\\n\\n1/1/05\\nWaste Water treatment privitazation issues, general engineering issues \\n\\nValerie Barsom\\nWoodard and Curran\\n\\n1/1/05\\nTraffic Engineering issues \\n\\nValerie Barsom\\nGPI, Inc.\\n\\n1/1/05\\nPlastic Pipe Specifications \\n\\nValerie Barsom\\nAdvanced Drainage Systems\\n\\n\\n\\n\\n\\n\\n\\n\\n\\n\\n\\r\\n            \\xa0\\r\\n        \\n\\n\\n\\nMeals, Travel, and Entertainment Expenses\\n\\n\\n\\n\\n\\n\\n\\nDateLobbyist nameEvent typeEvent locationNames of all event participantsAddresses of all event participantsAmount\\n\\n3/4/05\\xa0\\nEntertainment\\n\\n\\n\\nAmerican Express\\n\\n\\n\\r\\n                            $709.00\\r\\n                        \\n\\n1/7/05\\xa0\\nMeal\\n\\n\\n\\nAmerican Express\\n\\n\\n\\r\\n                            $300.00\\r\\n                        \\n\\n\\xa0\\xa0\\xa0\\xa0\\xa0\\xa0\\n$1,009.00\\n\\n\\n\\n\\n\\n\\n\\n\\xa0\\n\\n\\n\\nAdditional Expenses\\n\\n\\n\\n\\n\\n\\n\\nNo additional expenses were filed for this disclosure reporting period.\\n\\n\\n\\n\\n\\n\\n\\xa0\\n\\n\\n\\nCampaign Contributions\\n\\n\\n\\n\\n\\n\\n\\nDateLobbyist nameRecipient nameOffice soughtAmount\\n\\n4/12/05Valerie Barsom\\nJoe Wagner \\n\\nState Representative \\n\\r\\n                            $200.00\\r\\n                        \\n\\n4/12/05Valerie Barsom\\nRobert Deleo \\n\\nState Representative \\n\\r\\n                            $200.00\\r\\n                        \\n\\n6/20/05Valerie Barsom\\nJohn Bieneinda \\n\\nState Representative \\n\\r\\n                            $200.00\\r\\n                        \\n\\n6/22/05Valerie Barsom\\nJohn Fresolo \\n\\nState Representative \\n\\r\\n                            $200.00\\r\\n                        \\n\\n6/22/05Valerie Barsom\\nPaul Kujawski \\n\\nState Representative \\n\\r\\n                            $200.00\\r\\n                        \\n\\n6/22/05Valerie Barsom\\nJohn Rogers \\n\\nState Representative \\n\\r\\n                            $200.00\\r\\n                        \\n\\n6/29/05Valerie Barsom\\nGuy Glodis \\n\\nSheriff Worcester \\n\\r\\n                            $200.00\\r\\n                        \\n\\n\\xa0\\xa0\\xa0Total contributions\\n$1,400.00\\n\\n\\n\\n\\n\\n\\n\\n\\n\\n\\n\\n\\n\\n\\n\\n\\n\\nClose this page\\n\\n\\n\\n\\n\\n\\n\\nWilliam Francis Galvin, Secretary of the Commonwealth of Massachusetts\\nTerms and Conditions\\nAccessibility Statement\\n\\n\\n\\n\\n\\n\\n\\n'"
      ]
     },
     "execution_count": 14,
     "metadata": {},
     "output_type": "execute_result"
    }
   ],
   "source": [
    "entities[0].soup.text"
   ]
  },
  {
   "cell_type": "code",
   "execution_count": 4,
   "metadata": {},
   "outputs": [],
   "source": [
    "for page in pages:\n",
    "    if 'Campaign Contributions' in page.tables.keys():\n",
    "        print('YAY')"
   ]
  },
  {
   "cell_type": "code",
   "execution_count": 20,
   "metadata": {},
   "outputs": [],
   "source": [
    "header = \"DateRecipient nameOffice soughtAmount\"\n",
    "footer = \"\\xa0\\xa0Total contributions\"\n",
    "query_string = fr\"(?<={header}).*?(?={footer})\"\n",
    "query = re.compile(query_string,re.DOTALL)\n",
    "query_results = re.findall(query, pages[0].soup.text)"
   ]
  },
  {
   "cell_type": "code",
   "execution_count": 21,
   "metadata": {},
   "outputs": [
    {
     "data": {
      "text/plain": [
       "['\\n\\n4/4/05\\nMitt Romney \\n\\nGovernor of Massachusetts \\n\\r\\n                            $200.00\\r\\n                        \\n\\n5/24/05\\nAndrea F. Nuciforo, Jr. \\n\\nMassachusetts Senate-Berkshire, Hampden and Hampsh \\n\\r\\n                            $150.00\\r\\n                        \\n\\n5/3/05\\nRonald Mariano \\n\\nMassachusetts House of Representatives-3rd Norfolk \\n\\r\\n                            $150.00\\r\\n                        \\n\\n5/4/05\\nBrian P. Lees \\n\\nMassachusetts Senate-1st Hampden and Hampshire \\n\\r\\n                            $200.00\\r\\n                        \\n\\n']"
      ]
     },
     "execution_count": 21,
     "metadata": {},
     "output_type": "execute_result"
    }
   ],
   "source": [
    "query_results"
   ]
  },
  {
   "cell_type": "code",
   "execution_count": null,
   "metadata": {},
   "outputs": [],
   "source": [
    "from IPython.display import HTML\n",
    "\n",
    "HTML(str(pages[5].soup.html))"
   ]
  },
  {
   "cell_type": "code",
   "execution_count": null,
   "metadata": {},
   "outputs": [],
   "source": [
    "# Header:\n",
    "# Authorizing Officer name / Lobbyist name\n",
    "# Title / NA\n",
    "# Business name / Business name\n",
    "# Address / Address\n",
    "# City, state, zip code / Citym, state, zip code\n",
    "# country / country\n",
    "# NA / Agent Type\n",
    "\n",
    "#TABLES:\n",
    "# Entities\n",
    "# Lobbyists\n",
    "# Client Compensation\n",
    "# Compensation/Salaries Paid\n",
    "# Activities, Bill Numbers and Titles\n",
    "# Operating Expenses\n",
    "# Meals, Travel, and Entertainment Expenses\n",
    "# Additional Expenses\n",
    "# Campaign Contributions"
   ]
  },
  {
   "attachments": {},
   "cell_type": "markdown",
   "metadata": {},
   "source": [
    "Table standardization? Could I write a function that takes in a number of variables and creates the appropriate table?\n",
    "I would need:\n",
    "table name\n",
    "a regex query to execute\n",
    "a list of columns\n",
    "IS THAT IT???\n",
    "It seems like the rest of the process is pretty much identical from table to table - run the query, strip the gunk out, split the text, chunk the list, and build the dataframe"
   ]
  }
 ],
 "metadata": {
  "kernelspec": {
   "display_name": "Python 3.10.8 64-bit",
   "language": "python",
   "name": "python3"
  },
  "language_info": {
   "codemirror_mode": {
    "name": "ipython",
    "version": 3
   },
   "file_extension": ".py",
   "mimetype": "text/x-python",
   "name": "python",
   "nbconvert_exporter": "python",
   "pygments_lexer": "ipython3",
   "version": "3.10.8"
  },
  "orig_nbformat": 4,
  "vscode": {
   "interpreter": {
    "hash": "300fbccfaa1afd04bb86653fbdee52f26c731e37f5150715ebdacf05ee18f2ba"
   }
  }
 },
 "nbformat": 4,
 "nbformat_minor": 2
}
