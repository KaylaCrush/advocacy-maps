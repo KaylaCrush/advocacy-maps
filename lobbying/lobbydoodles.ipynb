{
 "cells": [
  {
   "cell_type": "code",
   "execution_count": 50,
   "metadata": {},
   "outputs": [],
   "source": [
    "from src.lobbyingDataPage import *\n",
    "from src.lobbyingScraper import *\n",
    "\n",
    "import pickle\n",
    "with open(\"tests/testfiles/2005html.pkl\", \"rb\") as f:\n",
    "    html05 = pickle.load(f)\n",
    "with open(\"tests/testfiles/2020html.pkl\", \"rb\") as f:\n",
    "    html20 = pickle.load(f)\n",
    "test_htmls = html05.__add__(html20)"
   ]
  },
  {
   "cell_type": "code",
   "execution_count": 51,
   "metadata": {},
   "outputs": [],
   "source": [
    "%%capture\n",
    "pages = convert_html_list(test_htmls[::10])"
   ]
  },
  {
   "cell_type": "code",
   "execution_count": 56,
   "metadata": {},
   "outputs": [
    {
     "data": {
      "text/html": [
       "lol"
      ],
      "text/plain": [
       "<IPython.core.display.HTML object>"
      ]
     },
     "execution_count": 56,
     "metadata": {},
     "output_type": "execute_result"
    }
   ],
   "source": [
    "from IPython.display import HTML\n",
    "\n",
    "HTML(str('lol'))"
   ]
  },
  {
   "cell_type": "code",
   "execution_count": null,
   "metadata": {},
   "outputs": [],
   "source": [
    "# Header:\n",
    "# Authorizing Officer name / Lobbyist name\n",
    "# Title / NA\n",
    "# Business name / Business name\n",
    "# Address / Address\n",
    "# City, state, zip code / Citym, state, zip code\n",
    "# country / country\n",
    "# NA / Agent Type\n",
    "\n",
    "#TABLES:\n",
    "# Entities\n",
    "# Lobbyists\n",
    "# Client Compensation\n",
    "# Compensation/Salaries Paid\n",
    "# Activities, Bill Numbers and Titles\n",
    "# Operating Expenses\n",
    "# Meals, Travel, and Entertainment Expenses\n",
    "# Additional Expenses\n",
    "# Campaign Contributions"
   ]
  }
 ],
 "metadata": {
  "kernelspec": {
   "display_name": "Python 3.10.8 64-bit",
   "language": "python",
   "name": "python3"
  },
  "language_info": {
   "codemirror_mode": {
    "name": "ipython",
    "version": 3
   },
   "file_extension": ".py",
   "mimetype": "text/x-python",
   "name": "python",
   "nbconvert_exporter": "python",
   "pygments_lexer": "ipython3",
   "version": "3.10.8"
  },
  "orig_nbformat": 4,
  "vscode": {
   "interpreter": {
    "hash": "300fbccfaa1afd04bb86653fbdee52f26c731e37f5150715ebdacf05ee18f2ba"
   }
  }
 },
 "nbformat": 4,
 "nbformat_minor": 2
}
